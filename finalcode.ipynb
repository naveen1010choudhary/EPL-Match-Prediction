{
 "cells": [
  {
   "cell_type": "code",
   "execution_count": 2,
   "id": "23d4d3f7-1791-4625-888f-f858fc37983c",
   "metadata": {},
   "outputs": [
    {
     "name": "stdout",
     "output_type": "stream",
     "text": [
      "🏈 EPL Match Predictor Starting...\n",
      "✅ Data loaded successfully!\n",
      "Shape of dataset: (9380, 22)\n",
      "✅ Feature engineering completed!\n",
      "✅ Team statistics calculated!\n",
      "✅ Features prepared!\n",
      "Feature matrix shape: (9380, 11)\n",
      "\n",
      "🤖 Training Random Forest model...\n",
      "✅ Random Forest Accuracy: 0.449\n",
      "🤖 Training Logistic Regression model...\n",
      "✅ Logistic Regression Accuracy: 0.530\n",
      "\n",
      "📊 MODEL PERFORMANCE SUMMARY\n",
      "Random Forest Accuracy: 44.9%\n",
      "Logistic Regression Accuracy: 53.0%\n",
      "Training Data Size: 7504 matches\n",
      "Test Data Size: 1876 matches\n",
      "\n",
      "📋 Dataset contains 46 teams\n",
      "\n",
      "============================================================\n",
      "🎉 EPL MATCH PREDICTOR IS READY!\n",
      "============================================================\n",
      "\n",
      "💡 HOW TO USE:\n",
      "1. Predict single match:\n",
      "   simple_predict('Chelsea', 'Arsenal')\n",
      "\n",
      "2. See all teams:\n",
      "   show_teams()\n",
      "\n",
      "📊 Model trained on 9380 matches\n",
      "🎯 Accuracy: 44.9%\n",
      "📋 46 teams available\n",
      "\n",
      "🚀 EXAMPLE - Try this:\n",
      "simple_predict('Chelsea', 'Arsenal')\n"
     ]
    }
   ],
   "source": [
    "import numpy as np\n",
    "import pandas as pd\n",
    "import matplotlib.pyplot as plt\n",
    "import seaborn as sns\n",
    "from sklearn.preprocessing import LabelEncoder\n",
    "from sklearn.model_selection import train_test_split\n",
    "from sklearn.ensemble import RandomForestClassifier\n",
    "from sklearn.linear_model import LogisticRegression\n",
    "from sklearn.metrics import accuracy_score, classification_report, confusion_matrix\n",
    "import warnings\n",
    "warnings.filterwarnings('ignore')\n",
    "\n",
    "print(\"🏈 EPL Match Predictor Starting...\")\n",
    "\n",
    "# Load and preprocess data\n",
    "df = pd.read_csv(\"epl_final.csv\")\n",
    "print(\"✅ Data loaded successfully!\")\n",
    "print(\"Shape of dataset:\", df.shape)\n",
    "\n",
    "column_left = ['Season', 'HomeTeam', 'AwayTeam', 'FullTimeHomeGoals',\n",
    "               'FullTimeAwayGoals', 'FullTimeResult', 'HalfTimeHomeGoals',\n",
    "               'HalfTimeAwayGoals', 'HalfTimeResult', 'HomeShots', 'AwayShots',\n",
    "               'HomeShotsOnTarget', 'AwayShotsOnTarget', 'HomeCorners', 'AwayCorners',\n",
    "               'HomeFouls', 'AwayFouls', 'HomeYellowCards', 'AwayYellowCards',\n",
    "               'HomeRedCards', 'AwayRedCards']\n",
    "df = df[column_left]\n",
    "\n",
    "# Encode FullTimeResult\n",
    "result_encoder = LabelEncoder()\n",
    "df['FullTimeResult'] = df['FullTimeResult'].astype(str)\n",
    "result_encoder.fit(df['FullTimeResult'])\n",
    "\n",
    "# Encode team names\n",
    "team_encoder = LabelEncoder()\n",
    "all_teams = pd.concat([df['HomeTeam'], df['AwayTeam']]).unique()\n",
    "team_encoder.fit(all_teams)\n",
    "df['HomeTeam'] = team_encoder.transform(df['HomeTeam'])\n",
    "df['AwayTeam'] = team_encoder.transform(df['AwayTeam'])\n",
    "TEAM_NAMES = team_encoder.classes_\n",
    "\n",
    "# Feature engineering\n",
    "df['GoalDiff'] = df['FullTimeHomeGoals'] - df['FullTimeAwayGoals']\n",
    "df['HomeAdvantage'] = 1\n",
    "df['ShotAccuracyHome'] = df['HomeShotsOnTarget'] / (df['HomeShots'] + 1)\n",
    "df['ShotAccuracyAway'] = df['AwayShotsOnTarget'] / (df['AwayShots'] + 1)\n",
    "df['TotalCards'] = df['HomeYellowCards'] + df['AwayYellowCards'] + df['HomeRedCards'] + df['AwayRedCards']\n",
    "\n",
    "print(\"✅ Feature engineering completed!\")\n",
    "\n",
    "# Calculate team statistics\n",
    "def calculate_team_stats(df):\n",
    "    team_stats = {}\n",
    "    \n",
    "    for team_id in df['HomeTeam'].unique():\n",
    "        home_games = df[df['HomeTeam'] == team_id]\n",
    "        away_games = df[df['AwayTeam'] == team_id]\n",
    "        \n",
    "        # Home performance\n",
    "        home_goals_scored = home_games['FullTimeHomeGoals'].mean()\n",
    "        home_goals_conceded = home_games['FullTimeAwayGoals'].mean()\n",
    "        home_wins = (home_games['FullTimeResult'] == result_encoder.transform(['H'])[0]).mean()\n",
    "        \n",
    "        # Away performance  \n",
    "        away_goals_scored = away_games['FullTimeAwayGoals'].mean()\n",
    "        away_goals_conceded = away_games['FullTimeHomeGoals'].mean()\n",
    "        away_wins = (away_games['FullTimeResult'] == result_encoder.transform(['A'])[0]).mean()\n",
    "        \n",
    "        team_stats[team_id] = {\n",
    "            'avg_goals_scored': (home_goals_scored + away_goals_scored) / 2,\n",
    "            'avg_goals_conceded': (home_goals_conceded + away_goals_conceded) / 2,\n",
    "            'win_rate': (home_wins + away_wins) / 2,\n",
    "            'home_advantage': home_wins - away_wins\n",
    "        }\n",
    "    \n",
    "    return team_stats\n",
    "\n",
    "team_stats = calculate_team_stats(df)\n",
    "print(\"✅ Team statistics calculated!\")\n",
    "\n",
    "# Add team strength features\n",
    "df['HomeTeamStrength'] = df['HomeTeam'].map(lambda x: team_stats[x]['avg_goals_scored'])\n",
    "df['AwayTeamStrength'] = df['AwayTeam'].map(lambda x: team_stats[x]['avg_goals_scored'])\n",
    "df['HomeTeamDefense'] = df['HomeTeam'].map(lambda x: team_stats[x]['avg_goals_conceded'])\n",
    "df['AwayTeamDefense'] = df['AwayTeam'].map(lambda x: team_stats[x]['avg_goals_conceded'])\n",
    "df['HomeWinRate'] = df['HomeTeam'].map(lambda x: team_stats[x]['win_rate'])\n",
    "df['AwayWinRate'] = df['AwayTeam'].map(lambda x: team_stats[x]['win_rate'])\n",
    "\n",
    "# Add form features (simplified)\n",
    "df['HomeForm'] = np.random.uniform(0.2, 0.8, len(df))\n",
    "df['AwayForm'] = np.random.uniform(0.2, 0.8, len(df))\n",
    "\n",
    "# Prepare features for modeling\n",
    "feature_columns = [\n",
    "    'HomeTeam', 'AwayTeam', 'HomeAdvantage',\n",
    "    'HomeTeamStrength', 'AwayTeamStrength',\n",
    "    'HomeTeamDefense', 'AwayTeamDefense',\n",
    "    'HomeWinRate', 'AwayWinRate',\n",
    "    'HomeForm', 'AwayForm'\n",
    "]\n",
    "\n",
    "X = df[feature_columns]\n",
    "y = df['FullTimeResult']\n",
    "\n",
    "print(\"✅ Features prepared!\")\n",
    "print(\"Feature matrix shape:\", X.shape)\n",
    "\n",
    "# Split data\n",
    "X_train, X_test, y_train, y_test = train_test_split(X, y, test_size=0.2, random_state=42, stratify=y)\n",
    "\n",
    "# Train Random Forest model\n",
    "print(\"\\n🤖 Training Random Forest model...\")\n",
    "rf_model = RandomForestClassifier(n_estimators=100, random_state=42)\n",
    "rf_model.fit(X_train, y_train)\n",
    "rf_pred = rf_model.predict(X_test)\n",
    "rf_accuracy = accuracy_score(y_test, rf_pred)\n",
    "\n",
    "print(f\"✅ Random Forest Accuracy: {rf_accuracy:.3f}\")\n",
    "\n",
    "# Train Logistic Regression\n",
    "print(\"🤖 Training Logistic Regression model...\")\n",
    "lr_model = LogisticRegression(random_state=42, max_iter=1000)\n",
    "lr_model.fit(X_train, y_train)\n",
    "lr_pred = lr_model.predict(X_test)\n",
    "lr_accuracy = accuracy_score(y_test, lr_pred)\n",
    "\n",
    "print(f\"✅ Logistic Regression Accuracy: {lr_accuracy:.3f}\")\n",
    "\n",
    "# Show model performance\n",
    "print(f\"\\n📊 MODEL PERFORMANCE SUMMARY\")\n",
    "print(f\"Random Forest Accuracy: {rf_accuracy:.1%}\")\n",
    "print(f\"Logistic Regression Accuracy: {lr_accuracy:.1%}\")\n",
    "print(f\"Training Data Size: {len(X_train)} matches\")\n",
    "print(f\"Test Data Size: {len(X_test)} matches\")\n",
    "\n",
    "# Get team names for easy access\n",
    "TEAM_NAMES = team_encoder.classes_\n",
    "print(f\"\\n📋 Dataset contains {len(TEAM_NAMES)} teams\")\n",
    "\n",
    "# ========================================\n",
    "# SIMPLE PREDICTION FUNCTION\n",
    "# ========================================\n",
    "\n",
    "def simple_predict(home_team_name, away_team_name):\n",
    "    \"\"\"\n",
    "    🎯 SIMPLE PREDICTION FUNCTION\n",
    "    Just write team names and get the winner!\n",
    "    \"\"\"\n",
    "    \n",
    "    # Find matching team names\n",
    "    home_match = None\n",
    "    away_match = None\n",
    "    \n",
    "    # Try to find home team\n",
    "    for team in TEAM_NAMES:\n",
    "        if home_team_name.lower() in team.lower() or team.lower() in home_team_name.lower():\n",
    "            home_match = team\n",
    "            break\n",
    "    \n",
    "    # Try to find away team\n",
    "    for team in TEAM_NAMES:\n",
    "        if away_team_name.lower() in team.lower() or team.lower() in away_team_name.lower():\n",
    "            away_match = team\n",
    "            break\n",
    "    \n",
    "    # Check if teams found\n",
    "    if not home_match:\n",
    "        print(f\"❌ Home team '{home_team_name}' not found!\")\n",
    "        print(\"💡 Available teams:\", \", \".join(TEAM_NAMES[:10]) + \"...\")\n",
    "        return None\n",
    "        \n",
    "    if not away_match:\n",
    "        print(f\"❌ Away team '{away_team_name}' not found!\")\n",
    "        print(\"💡 Available teams:\", \", \".join(TEAM_NAMES[:10]) + \"...\")\n",
    "        return None\n",
    "    \n",
    "    try:\n",
    "        # Encode teams\n",
    "        home_encoded = team_encoder.transform([home_match])[0]\n",
    "        away_encoded = team_encoder.transform([away_match])[0]\n",
    "        \n",
    "        # Create feature vector\n",
    "        features = np.array([[\n",
    "            home_encoded, away_encoded, 1,\n",
    "            team_stats[home_encoded]['avg_goals_scored'],\n",
    "            team_stats[away_encoded]['avg_goals_scored'],\n",
    "            team_stats[home_encoded]['avg_goals_conceded'],\n",
    "            team_stats[away_encoded]['avg_goals_conceded'],\n",
    "            team_stats[home_encoded]['win_rate'],\n",
    "            team_stats[away_encoded]['win_rate'],\n",
    "            0.5, 0.5  # Form placeholders\n",
    "        ]])\n",
    "        \n",
    "        # Make prediction\n",
    "        prediction = rf_model.predict(features)[0]\n",
    "        probabilities = rf_model.predict_proba(features)[0]\n",
    "        \n",
    "        # Map probabilities correctly using classes\n",
    "        class_probs = dict(zip(rf_model.classes_, probabilities))\n",
    "        \n",
    "        # Determine winner\n",
    "        if prediction == 'H':  # Home win\n",
    "            winner = home_match\n",
    "            result_text = f\"🏠 {home_match} WINS!\"\n",
    "        elif prediction == 'A':  # Away win\n",
    "            winner = away_match\n",
    "            result_text = f\"✈️ {away_match} WINS!\"\n",
    "        else:  # Draw\n",
    "            winner = \"Draw\"\n",
    "            result_text = \"🤝 DRAW\"\n",
    "        \n",
    "        confidence = max(probabilities)\n",
    "        \n",
    "        # Display result\n",
    "        print(f\"\\n⚽ {home_match} vs {away_match}\")\n",
    "        print(f\"🏆 PREDICTION: {result_text}\")\n",
    "        print(f\"📊 Confidence: {confidence:.0%}\")\n",
    "        print(f\"📈 Probabilities:\")\n",
    "        print(f\"   🏠 {home_match}: {class_probs.get('H',0):.0%}\")\n",
    "        print(f\"   🤝 Draw: {class_probs.get('D',0):.0%}\")\n",
    "        print(f\"   ✈️ {away_match}: {class_probs.get('A',0):.0%}\")\n",
    "        \n",
    "        # Confidence indicator\n",
    "        if confidence > 0.6:\n",
    "            print(\"🔥 HIGH CONFIDENCE\")\n",
    "        elif confidence > 0.4:\n",
    "            print(\"⚡ MEDIUM CONFIDENCE\")\n",
    "        else:\n",
    "            print(\"❓ LOW CONFIDENCE\")\n",
    "        \n",
    "        return winner\n",
    "        \n",
    "    except Exception as e:\n",
    "        print(f\"❌ Error making prediction: {e}\")\n",
    "        return None\n",
    "\n",
    "# Show available teams function\n",
    "def show_teams():\n",
    "    \"\"\"Display all available teams\"\"\"\n",
    "    print(\"\\n📋 AVAILABLE TEAMS:\")\n",
    "    for i, team in enumerate(TEAM_NAMES, 1):\n",
    "        print(f\"{i:2d}. {team}\")\n",
    "\n",
    "print(\"\\n\" + \"=\"*60)\n",
    "print(\"🎉 EPL MATCH PREDICTOR IS READY!\")\n",
    "print(\"=\"*60)\n",
    "print(\"\\n💡 HOW TO USE:\")\n",
    "print(\"1. Predict single match:\")\n",
    "print(\"   simple_predict('Chelsea', 'Arsenal')\")\n",
    "print(\"\\n2. See all teams:\")\n",
    "print(\"   show_teams()\")\n",
    "\n",
    "print(f\"\\n📊 Model trained on {len(df)} matches\")\n",
    "print(f\"🎯 Accuracy: {rf_accuracy:.1%}\")\n",
    "print(f\"📋 {len(TEAM_NAMES)} teams available\")\n",
    "\n",
    "print(\"\\n🚀 EXAMPLE - Try this:\")\n",
    "print(\"simple_predict('Chelsea', 'Arsenal')\")\n"
   ]
  },
  {
   "cell_type": "code",
   "execution_count": 24,
   "id": "bb6e5372-1a2d-461a-b949-85ebb13598fb",
   "metadata": {},
   "outputs": [
    {
     "name": "stdout",
     "output_type": "stream",
     "text": [
      "['A' 'D' 'H']\n"
     ]
    }
   ],
   "source": [
    "print(rf_model.classes_)\n"
   ]
  },
  {
   "cell_type": "code",
   "execution_count": 25,
   "id": "360e3620-4401-4994-945b-992213d8d21c",
   "metadata": {},
   "outputs": [
    {
     "name": "stdout",
     "output_type": "stream",
     "text": [
      "\n",
      "⚽ Liverpool vs Everton\n",
      "🏆 PREDICTION: 🏠 Liverpool WINS!\n",
      "📊 Confidence: 76%\n",
      "📈 Probabilities:\n",
      "   🏠 Liverpool: 76%\n",
      "   🤝 Draw: 23%\n",
      "   ✈️ Everton: 1%\n",
      "🔥 HIGH CONFIDENCE\n"
     ]
    },
    {
     "data": {
      "text/plain": [
       "'Liverpool'"
      ]
     },
     "execution_count": 25,
     "metadata": {},
     "output_type": "execute_result"
    }
   ],
   "source": [
    "simple_predict('Liverpool','Everton')"
   ]
  },
  {
   "cell_type": "code",
   "execution_count": 3,
   "id": "e42819fb-39f4-4e41-a2bb-ac4e0983476d",
   "metadata": {},
   "outputs": [
    {
     "name": "stdout",
     "output_type": "stream",
     "text": [
      "\n",
      "⚽ Chelsea vs Man United\n",
      "🏆 PREDICTION: 🤝 DRAW\n",
      "📊 Confidence: 47%\n",
      "📈 Probabilities:\n",
      "   🏠 Chelsea: 37%\n",
      "   🤝 Draw: 47%\n",
      "   ✈️ Man United: 16%\n",
      "⚡ MEDIUM CONFIDENCE\n"
     ]
    },
    {
     "data": {
      "text/plain": [
       "'Draw'"
      ]
     },
     "execution_count": 3,
     "metadata": {},
     "output_type": "execute_result"
    }
   ],
   "source": [
    "simple_predict('Chelsea','MAN United')"
   ]
  },
  {
   "cell_type": "code",
   "execution_count": 27,
   "id": "fca17f6b-8c8a-4ef7-b928-6ec8e6978239",
   "metadata": {},
   "outputs": [
    {
     "name": "stdout",
     "output_type": "stream",
     "text": [
      "['A' 'D' 'H']\n"
     ]
    }
   ],
   "source": [
    "print(rf_model.classes_)"
   ]
  },
  {
   "cell_type": "code",
   "execution_count": 28,
   "id": "b17d55e8-a24d-4ff3-85e8-9f4c7c779de4",
   "metadata": {},
   "outputs": [
    {
     "name": "stdout",
     "output_type": "stream",
     "text": [
      "\n",
      "⚽ Brighton vs Tottenham\n",
      "🏆 PREDICTION: ✈️ Tottenham WINS!\n",
      "📊 Confidence: 48%\n",
      "📈 Probabilities:\n",
      "   🏠 Brighton: 40%\n",
      "   🤝 Draw: 12%\n",
      "   ✈️ Tottenham: 48%\n",
      "⚡ MEDIUM CONFIDENCE\n"
     ]
    },
    {
     "data": {
      "text/plain": [
       "'Tottenham'"
      ]
     },
     "execution_count": 28,
     "metadata": {},
     "output_type": "execute_result"
    }
   ],
   "source": [
    "simple_predict('Brighton','Tottenham')"
   ]
  },
  {
   "cell_type": "code",
   "execution_count": 29,
   "id": "9d34bcb0-ba59-492e-9c87-5c686ac461c8",
   "metadata": {},
   "outputs": [
    {
     "name": "stdout",
     "output_type": "stream",
     "text": [
      "\n",
      "⚽ Brighton vs Tottenham\n",
      "🏆 PREDICTION: ✈️ Tottenham WINS!\n",
      "📊 Confidence: 48%\n",
      "📈 Probabilities:\n",
      "   🏠 Brighton: 40%\n",
      "   🤝 Draw: 12%\n",
      "   ✈️ Tottenham: 48%\n",
      "⚡ MEDIUM CONFIDENCE\n"
     ]
    },
    {
     "data": {
      "text/plain": [
       "'Tottenham'"
      ]
     },
     "execution_count": 29,
     "metadata": {},
     "output_type": "execute_result"
    }
   ],
   "source": [
    "simple_predict('brighton','tottenham')"
   ]
  },
  {
   "cell_type": "code",
   "execution_count": null,
   "id": "91e22b50-a149-44f0-a430-366ecf005c83",
   "metadata": {},
   "outputs": [],
   "source": []
  }
 ],
 "metadata": {
  "kernelspec": {
   "display_name": "Python [conda env:base] *",
   "language": "python",
   "name": "conda-base-py"
  },
  "language_info": {
   "codemirror_mode": {
    "name": "ipython",
    "version": 3
   },
   "file_extension": ".py",
   "mimetype": "text/x-python",
   "name": "python",
   "nbconvert_exporter": "python",
   "pygments_lexer": "ipython3",
   "version": "3.12.7"
  }
 },
 "nbformat": 4,
 "nbformat_minor": 5
}
